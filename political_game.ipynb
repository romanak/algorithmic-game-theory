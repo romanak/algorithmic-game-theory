{
 "cells": [
  {
   "cell_type": "code",
   "execution_count": 1,
   "id": "c15a7d51-8d68-4b9f-926a-3bf6d5ac0315",
   "metadata": {},
   "outputs": [],
   "source": [
    "import numpy as np\n",
    "import political_game as pg\n",
    "# Some more magic so that the notebook will reload external python modules;\n",
    "# see http://stackoverflow.com/questions/1907993/autoreload-of-modules-in-ipython\n",
    "%load_ext autoreload\n",
    "%autoreload 2"
   ]
  },
  {
   "cell_type": "markdown",
   "id": "2dd047d1-c202-48f4-99d2-6928c03756ec",
   "metadata": {},
   "source": [
    "$$A =\n",
    "\\left(\n",
    "\\begin{array}{cc}\n",
    " u_A(A_1) & u_B(A_1) \\\\\n",
    " u_A(A_2) & u_B(A_2) \\\\\n",
    "\\end{array}\n",
    "\\right)$$\n",
    "\n",
    "$$B =\n",
    "\\left(\n",
    "\\begin{array}{cc}\n",
    " u_B(B_1) & u_A(B_1) \\\\\n",
    " u_B(B_2) & u_A(B_2) \\\\\n",
    "\\end{array}\n",
    "\\right)$$"
   ]
  },
  {
   "cell_type": "code",
   "execution_count": 2,
   "id": "81106c6c-d44a-4366-8392-b1459ce71afc",
   "metadata": {},
   "outputs": [],
   "source": [
    "polgame = pg.PoliticalGame(num_candidates=2, social_bound=100, \\\n",
    "        model=pg.LinearLink, swing_voters=True, iterations=100000, \\\n",
    "        force_egoism=False, seed=0)"
   ]
  },
  {
   "cell_type": "code",
   "execution_count": 3,
   "id": "67e8affd-62ad-47a0-ac42-b1c1e36283d4",
   "metadata": {},
   "outputs": [
    {
     "name": "stdout",
     "output_type": "stream",
     "text": [
      "99804\n"
     ]
    }
   ],
   "source": [
    "# polgame.run_election()\n",
    "polgame.run_iterations()\n",
    "n_PNEs = len([record[5] for record in polgame.history if record[5]])\n",
    "print(n_PNEs)\n",
    "# polgame.history"
   ]
  },
  {
   "cell_type": "code",
   "execution_count": null,
   "id": "7abb365e-2a69-427b-8094-7881c08ebb4e",
   "metadata": {},
   "outputs": [],
   "source": []
  }
 ],
 "metadata": {
  "kernelspec": {
   "display_name": "Python 3 (ipykernel)",
   "language": "python",
   "name": "python3"
  },
  "language_info": {
   "codemirror_mode": {
    "name": "ipython",
    "version": 3
   },
   "file_extension": ".py",
   "mimetype": "text/x-python",
   "name": "python",
   "nbconvert_exporter": "python",
   "pygments_lexer": "ipython3",
   "version": "3.8.10"
  }
 },
 "nbformat": 4,
 "nbformat_minor": 5
}
